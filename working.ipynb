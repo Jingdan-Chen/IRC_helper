{
 "cells": [
  {
   "cell_type": "code",
   "execution_count": 1,
   "metadata": {},
   "outputs": [],
   "source": [
    "# Import required functions from funarg script\n",
    "from funarg import *"
   ]
  },
  {
   "cell_type": "code",
   "execution_count": null,
   "metadata": {},
   "outputs": [],
   "source": [
    "# input the relative paths of IRC out file\n",
    "filenames = [r\"origin_file\\N2_ts2_invR_irc.out\"]\n",
    "bonds_arg = [(2,19),(19,32),(26,66),(10,66),(3,20),(4,20)]"
   ]
  },
  {
   "cell_type": "code",
   "execution_count": 3,
   "metadata": {},
   "outputs": [],
   "source": [
    "\n",
    "df1,ele_id_lis = irc_processor(filenames,\\\n",
    "    irc_bond_arg=bonds_arg)\n",
    "# df1,ele_id_lis = irc_processor([r\"origin_file\\N2_ts2_invS_t2_opts_irc_lqa.out\"],\\\n",
    "#     irc_bond_arg=[(2,19),(19,32),(26,66),(10,66)])"
   ]
  },
  {
   "cell_type": "code",
   "execution_count": 5,
   "metadata": {},
   "outputs": [
    {
     "data": {
      "text/plain": [
       "count    121.000000\n",
       "mean       1.517076\n",
       "std        0.402427\n",
       "min        1.105399\n",
       "25%        1.114544\n",
       "50%        1.471620\n",
       "75%        1.940541\n",
       "max        2.092331\n",
       "Name: (10, 66), dtype: float64"
      ]
     },
     "execution_count": 5,
     "metadata": {},
     "output_type": "execute_result"
    }
   ],
   "source": [
    "df1[\"(10, 66)\"].describe()"
   ]
  },
  {
   "cell_type": "code",
   "execution_count": 4,
   "metadata": {},
   "outputs": [
    {
     "data": {
      "text/plain": [
       "Index(['spe', 'xyz_mat', '(2, 19)', '(19, 32)', '(26, 66)', '(10, 66)',\n",
       "       '(3, 20)', '(4, 20)'],\n",
       "      dtype='object')"
      ]
     },
     "execution_count": 4,
     "metadata": {},
     "output_type": "execute_result"
    }
   ],
   "source": [
    "df1.columns"
   ]
  },
  {
   "cell_type": "code",
   "execution_count": 6,
   "metadata": {},
   "outputs": [],
   "source": [
    "f0 = fitting(df1,\"index\",\"xyz_mat\")"
   ]
  },
  {
   "cell_type": "code",
   "execution_count": 7,
   "metadata": {},
   "outputs": [
    {
     "data": {
      "text/plain": [
       "Int64Index([-60, -59, -58, -57, -56, -55, -54, -53, -52, -51,\n",
       "            ...\n",
       "             51,  52,  53,  54,  55,  56,  57,  58,  59,  60],\n",
       "           dtype='int64', length=121)"
      ]
     },
     "execution_count": 7,
     "metadata": {},
     "output_type": "execute_result"
    }
   ],
   "source": [
    "df1.index"
   ]
  },
  {
   "cell_type": "code",
   "execution_count": 17,
   "metadata": {},
   "outputs": [
    {
     "name": "stdout",
     "output_type": "stream",
     "text": [
      "-96 0.00932670083625949\n",
      "-95 0.008638639180584226\n",
      "-94 0.001268245536216983\n",
      "-93 0.004616221352021936\n",
      "-92 0.048794090621956415\n",
      "-91 0.05194008241598563\n",
      "-90 0.039507799771023144\n",
      "-89 0.04525296230684572\n",
      "-88 0.00032598133156940245\n",
      "-87 0.0006347628976839999\n",
      "-86 0.004420922317305115\n",
      "-85 0.005667407300885158\n",
      "-84 0.0027829385243448917\n",
      "-83 0.0021512778832358057\n",
      "-82 0.0029088939047182258\n",
      "-81 0.0005811129872287825\n",
      "-80 0.0011340389678968358\n",
      "-79 0.0031590661306307288\n",
      "-78 0.0012231776917473606\n",
      "-77 0.0009218364497674098\n",
      "-76 0.0012957116384131229\n",
      "-75 0.002481199459144694\n",
      "-74 0.003888849467080327\n",
      "-73 0.004231501158200668\n",
      "-72 0.004629879018319118\n",
      "-71 0.0021499751489184125\n",
      "-70 0.006909994407479678\n",
      "-69 0.004867522838021362\n",
      "-68 0.005132785764575113\n",
      "-67 0.0031296554537300534\n",
      "-66 0.008658932198277442\n",
      "-65 0.0018274732074948588\n",
      "-64 0.0032579619583861215\n",
      "-63 0.0059499720790317885\n",
      "-62 0.00017917378393908772\n",
      "-61 0.0012268027787959287\n",
      "-60 0.00020155755442533086\n",
      "-59 0.0002592893088330684\n",
      "-58 0.0006616084257209417\n",
      "-57 0.00040271888926806716\n",
      "-56 0.0009889760651458604\n",
      "-55 0.0009654557384145929\n",
      "-54 0.0014692732714535806\n",
      "-53 0.00048734084583379006\n",
      "-52 0.00042875424938661796\n",
      "-51 0.000846303672934227\n",
      "-50 0.0009650309554670493\n",
      "-49 0.0015981042160857141\n",
      "-48 0.0010867881791204366\n",
      "-47 0.00017550045383176574\n",
      "-46 0.001204241297495245\n",
      "-45 0.00437507689247955\n",
      "-44 0.0071620353853930115\n",
      "-43 0.0026174601750434774\n",
      "-42 0.029914969714674396\n",
      "-41 0.0630005008091385\n",
      "-40 0.16354899776340434\n",
      "-39 0.16476841704120354\n",
      "-38 0.07585907389177007\n",
      "-37 0.042580986255508206\n",
      "-36 0.013327939636035227\n",
      "-35 0.023232516592987522\n",
      "-34 0.0024887681833589293\n",
      "-33 0.0017461258996678602\n",
      "-32 0.00030448586635571065\n",
      "-31 0.00042835829429502205\n",
      "-30 0.0005877337826744718\n",
      "-29 0.0007818034032271759\n",
      "-28 0.004502433156039898\n",
      "-27 0.00026704180954685005\n",
      "-26 0.0033381160226486697\n",
      "-25 0.0014797298602400473\n",
      "-24 0.0011023418881080764\n",
      "-23 0.00033249901532479676\n",
      "-22 0.0016674331257096086\n",
      "-21 0.0001494135999227118\n",
      "-20 0.0005264542665054808\n",
      "-19 0.0008899727202297587\n",
      "-18 0.0005308125141062874\n",
      "-17 0.0007435147552321001\n",
      "-16 0.0014670570126870007\n",
      "-15 0.001967312265115344\n",
      "-14 0.000541388117518914\n",
      "-13 0.0002551648495143847\n",
      "-12 0.00027928096231628294\n",
      "-11 7.825704344372131e-05\n",
      "-10 0.00029250197796165027\n",
      "-9 0.0006270619658678976\n",
      "-8 0.00012772127918491614\n",
      "-7 8.914174022859964e-05\n",
      "-6 0.00015543803390867295\n",
      "-5 7.378501850423025e-05\n",
      "-4 4.3096109750758986e-05\n",
      "-3 4.470144932036635e-05\n",
      "-2 2.7185676370204973e-05\n",
      "-1 3.697202566315186e-06\n",
      "0 0.07400064323369088\n",
      "1 4.919707964751952e-06\n",
      "2 3.378349523151544e-05\n",
      "3 7.06647454439571e-05\n",
      "4 0.00011484053835908122\n",
      "5 0.00016219855644211508\n",
      "6 0.00019284081328727173\n",
      "7 0.00015486742287056915\n",
      "8 0.00011594570764633479\n",
      "9 0.00011978403703792751\n",
      "10 0.0001370410785103666\n",
      "11 0.00017377434636620725\n",
      "12 0.0002509239008316896\n",
      "13 0.00037070753568868597\n",
      "14 0.0005550139916960222\n",
      "15 0.0008134362044435176\n",
      "16 0.0010487253882891534\n",
      "17 0.001121129498908993\n",
      "18 0.001011679207296179\n",
      "19 0.0007598675346727256\n",
      "20 0.00045892763260361834\n",
      "21 0.00028242799181893094\n",
      "22 0.00023378496468515162\n",
      "23 0.00021186576666113818\n",
      "24 0.00016473407578898057\n",
      "25 0.00031023919459708185\n",
      "26 0.0002894323909171592\n",
      "27 0.00038362150648029505\n",
      "28 0.0005201439611501771\n",
      "29 0.0004138816653261801\n",
      "30 0.00034606304192171715\n",
      "31 0.0005307417939526693\n",
      "32 0.0002903489982310023\n",
      "33 0.0003454351204057493\n",
      "34 0.0003085465142311362\n",
      "35 0.0003142234042461324\n",
      "36 0.0003949258739578908\n",
      "37 0.0004364513225689492\n",
      "38 0.0005027168287085053\n",
      "39 0.0005754148831821326\n",
      "40 0.0006478249514936452\n",
      "41 0.0007363744305030307\n",
      "42 0.000720149961030853\n",
      "43 0.0007042855283389143\n",
      "44 0.0007105736987579701\n",
      "45 0.0006831642894406732\n",
      "46 0.0006604363407159211\n",
      "47 0.0006429636589301407\n",
      "48 0.0006229220828058836\n",
      "49 0.0005933198695938771\n",
      "50 0.0005746119282228606\n",
      "51 0.0005518446615515457\n",
      "52 0.0005358987110085306\n",
      "53 0.000503424764589342\n",
      "54 0.0004919545035994571\n",
      "55 0.00047758979829129895\n",
      "56 0.00045425946278913534\n",
      "57 0.0004300373461723179\n",
      "58 0.00046632173628168515\n",
      "59 0.0004212655904955823\n",
      "60 0.0004215520783855781\n",
      "61 0.00042107016826580803\n",
      "62 0.0005244982317160684\n",
      "63 0.0005016264127312291\n",
      "64 0.00042673628048932425\n",
      "65 0.00046364657857763807\n",
      "66 0.0005035154290745225\n",
      "67 0.0004634741298920137\n",
      "68 0.0004550299769487778\n",
      "69 0.0005501403690736067\n",
      "70 0.0005413237762136831\n",
      "71 0.00031391905730051233\n",
      "72 0.0004254885878015918\n",
      "73 0.00045831523860387233\n",
      "74 0.0003512632237706308\n",
      "75 0.00046569716339642367\n",
      "76 0.00031285669839482664\n",
      "77 0.00034765055375097196\n",
      "78 0.00033356782325632227\n",
      "79 0.0004136748871148887\n",
      "80 0.00032131756348573393\n",
      "81 0.0003817489287044136\n",
      "82 0.00030672996553521645\n",
      "83 0.0006369479562647434\n",
      "84 0.0004781050671749403\n",
      "85 0.00047743991952331894\n",
      "86 0.0005611502688314962\n",
      "87 0.0007094558897085591\n",
      "88 0.0005168484763441091\n",
      "89 0.0008466258978174175\n",
      "90 0.0006657893139941093\n",
      "91 0.000832258817470314\n",
      "92 0.0005806448881614193\n",
      "93 0.0011156645697262156\n",
      "94 0.0009880064535713665\n",
      "Measures of arr\n",
      "Arr Length = 191\n",
      "Mean = 0.005462890119099574\n",
      "Minimum = 3.697202566315186e-06\n",
      "Maximum = 0.16476841704120354\n",
      "Range = 0.16476471983863722\n",
      "Variance = 0.00039923327309625403\n",
      "Standard Deviation = 0.019980822633121342\n"
     ]
    }
   ],
   "source": [
    "## This is for the benchmark work \n",
    "# rmds_res = []\n",
    "# temp_df2_idx = list(df2.index)\n",
    "# for i in df2.index:\n",
    "#     geom_true = df2.loc[i,\"xyz_mat\"]\n",
    "#     try:\n",
    "#         geom_fit = f1(df2.loc[i,'(10, 66)'])\n",
    "#     except:\n",
    "#         temp_df2_idx.pop(i)\n",
    "#         continue\n",
    "#     res = cal_rmsd(geom_true,geom_fit)\n",
    "#     rmds_res.append(res)\n",
    "#     print(i,res)\n",
    "\n",
    "# arr_eval(rmds_res)"
   ]
  },
  {
   "cell_type": "code",
   "execution_count": 19,
   "metadata": {},
   "outputs": [
    {
     "data": {
      "text/plain": [
       "[<matplotlib.lines.Line2D at 0x259de989990>]"
      ]
     },
     "execution_count": 19,
     "metadata": {},
     "output_type": "execute_result"
    },
    {
     "data": {
      "image/png": "[encoded data removed]",
      "text/plain": [
       "<Figure size 432x288 with 1 Axes>"
      ]
     },
     "metadata": {
      "needs_background": "light"
     },
     "output_type": "display_data"
    }
   ],
   "source": [
    "# plt.plot(temp_df2_idx,rmds_res)"
   ]
  },
  {
   "cell_type": "code",
   "execution_count": 20,
   "metadata": {},
   "outputs": [
    {
     "data": {
      "text/plain": [
       "count    195.000000\n",
       "mean       1.487953\n",
       "std        0.376510\n",
       "min        1.110318\n",
       "25%        1.125165\n",
       "50%        1.329562\n",
       "75%        1.908529\n",
       "max        2.029892\n",
       "Name: (10, 66), dtype: float64"
      ]
     },
     "execution_count": 20,
     "metadata": {},
     "output_type": "execute_result"
    }
   ],
   "source": [
    "#df2[\"(10, 66)\"].describe()"
   ]
  },
  {
   "cell_type": "code",
   "execution_count": 21,
   "metadata": {},
   "outputs": [
    {
     "data": {
      "text/plain": [
       "1    [[1.521932, 2.941202, 4.447833], [-0.149042, 1...\n",
       "2    [[1.522084, 2.941361, 4.448016], [-0.148765, 1...\n",
       "3    [[1.52224, 2.941528, 4.448207], [-0.148469, 1....\n",
       "Name: xyz_mat, dtype: object"
      ]
     },
     "execution_count": 21,
     "metadata": {},
     "output_type": "execute_result"
    }
   ],
   "source": [
    "#df2.loc[[1,2,3],\"xyz_mat\"]"
   ]
  },
  {
   "cell_type": "code",
   "execution_count": 8,
   "metadata": {},
   "outputs": [],
   "source": [
    "#BL_1066 = np.linspace(1.15,1.95,17)\n",
    "BL_1066 = [1.47162,1.38331]"
   ]
  },
  {
   "cell_type": "code",
   "execution_count": 9,
   "metadata": {},
   "outputs": [
    {
     "data": {
      "text/plain": [
       "[1.47162, 1.38331]"
      ]
     },
     "execution_count": 9,
     "metadata": {},
     "output_type": "execute_result"
    }
   ],
   "source": [
    "BL_1066"
   ]
  },
  {
   "cell_type": "code",
   "execution_count": 10,
   "metadata": {},
   "outputs": [],
   "source": [
    "#f0_2 = fitting(df2,\"index\",\"xyz_mat\")"
   ]
  },
  {
   "cell_type": "code",
   "execution_count": 11,
   "metadata": {},
   "outputs": [],
   "source": [
    "# temp_df = df2[\"(10, 66)\"]\n",
    "# idx = temp_df.index\n",
    "k = 1\n",
    "for i in BL_1066:\n",
    "    #generate_xyz(f1(temp_df[i]),ele_id_lis=ele_id_lis,filename=\"geom_fit_\"+str(i)+\".xyz\")\n",
    "    #fit_res = f0(dicho_solve(f0,limit=(-60,60),bond_arg=temp_df[i],bond_id=(10, 66)))\n",
    "    fit_res = f0(dicho_solve(f0,limit=(-60,60),bond_arg=i,bond_id=(10, 66)))\n",
    "    generate_gjf(fit_res,ele_id_lis=ele_id_lis,filename=\"ts2_R_seg\"+\"_TS\"+str(k),path_flag=False)\n",
    "    k+=1\n",
    "    "
   ]
  },
  {
   "cell_type": "code",
   "execution_count": 16,
   "metadata": {},
   "outputs": [
    {
     "name": "stdout",
     "output_type": "stream",
     "text": [
      "-99 [0.00722762]\n",
      "-98 [0.00493849]\n",
      "-97 [0.00180796]\n",
      "-96 [0.0001614]\n",
      "-95 [0.0007058]\n",
      "-94 [0.00086576]\n",
      "-93 [0.00073122]\n",
      "-92 [0.00023902]\n",
      "-91 [0.00013055]\n",
      "-90 [0.00012966]\n",
      "-89 [0.00012924]\n",
      "-88 [0.00013236]\n",
      "-87 [0.00014839]\n",
      "-86 [0.00032378]\n",
      "-85 [0.00032789]\n",
      "-84 [1.0385099e-05]\n",
      "-83 [4.27635915e-05]\n",
      "-82 [0.00011364]\n",
      "-81 [4.44537841e-05]\n",
      "-80 [0.00012075]\n",
      "-79 [0.00019168]\n",
      "-78 [0.00011655]\n",
      "-77 [6.35073787e-05]\n",
      "-76 [0.00065353]\n",
      "-75 [1.50299113e-05]\n",
      "-74 [2.81318227e-06]\n",
      "-73 [0.00018677]\n",
      "-72 [0.00011658]\n",
      "-71 [0.00041487]\n",
      "-70 [0.00191449]\n",
      "-69 [0.00063783]\n",
      "-68 [0.00233635]\n",
      "-67 [2.12445127e-05]\n",
      "-66 [0.00206933]\n",
      "-65 [0.00044284]\n",
      "-64 [0.00133078]\n",
      "-63 [0.00233743]\n",
      "-62 [3.21084355e-05]\n",
      "-61 [0.00090491]\n",
      "-60 [0.00010873]\n",
      "-59 [1.09914819e-05]\n",
      "-58 [4.4775226e-05]\n",
      "-57 [3.30095588e-06]\n",
      "-56 [0.00013862]\n",
      "-55 [0.0002576]\n",
      "-54 [0.00044277]\n",
      "-53 [0.0003869]\n",
      "-52 [9.00944105e-05]\n",
      "-51 [3.34713519e-05]\n",
      "-50 [1.64385272e-05]\n",
      "-49 [0.00011881]\n",
      "-48 [0.00015433]\n",
      "-47 [0.00011817]\n",
      "-46 [4.24108989e-05]\n",
      "-45 [2.33425977e-05]\n",
      "-44 [0.00021542]\n",
      "-43 [0.00025729]\n",
      "-42 [0.00014772]\n",
      "-41 [7.9901934e-05]\n",
      "-40 [0.00011436]\n",
      "-39 [0.00012799]\n",
      "-38 [0.00021015]\n",
      "-37 [0.00026345]\n",
      "-36 [4.81555711e-05]\n",
      "-35 [0.00022379]\n",
      "-34 [1.63227025e-05]\n",
      "-33 [4.95916507e-05]\n",
      "-32 [8.34391547e-06]\n",
      "-31 [2.82231854e-05]\n",
      "-30 [5.81402009e-07]\n",
      "-29 [3.94743909e-05]\n",
      "-28 [3.34389801e-06]\n",
      "-27 [1.06063715e-05]\n",
      "-26 [2.4910839e-06]\n",
      "-25 [1.27095364e-05]\n",
      "-24 [3.09141962e-06]\n",
      "-23 [1.01395559e-05]\n",
      "-22 [3.58962466e-06]\n",
      "-21 [6.23079163e-07]\n",
      "-20 [9.68911579e-06]\n",
      "-19 [1.20431542e-05]\n",
      "-18 [5.97712659e-07]\n",
      "-17 [8.8343769e-06]\n",
      "-16 [1.64522121e-05]\n",
      "-15 [1.40831254e-05]\n",
      "-14 [3.99240593e-06]\n",
      "-13 [1.50371859e-06]\n",
      "-12 [8.01709953e-07]\n",
      "-11 [2.60211514e-06]\n",
      "-10 [1.48632118e-05]\n",
      "-9 [2.84960201e-05]\n",
      "-8 [3.78977555e-06]\n",
      "-7 [1.30755262e-06]\n",
      "-6 [1.19033063e-06]\n",
      "-5 [9.09140982e-07]\n",
      "-4 [2.34928416e-07]\n",
      "-3 [1.62771931e-07]\n",
      "-2 [1.61108771e-08]\n",
      "-1 [2.22044605e-16]\n",
      "0 [0.]\n",
      "1 [0.]\n",
      "2 [2.78862244e-09]\n",
      "3 [5.67221514e-09]\n",
      "4 [1.08920479e-07]\n",
      "5 [3.70848752e-09]\n",
      "6 [1.84096338e-09]\n",
      "7 [1.0399338e-07]\n",
      "8 [1.19268748e-06]\n",
      "9 [4.3804739e-06]\n",
      "10 [9.75129777e-07]\n",
      "11 [4.42994837e-07]\n",
      "12 [1.67233914e-07]\n",
      "13 [1.89258205e-08]\n",
      "14 [6.56500565e-08]\n",
      "15 [6.51141936e-08]\n",
      "16 [3.48314932e-09]\n",
      "17 [1.73248922e-08]\n",
      "18 [9.08696243e-08]\n",
      "19 [9.56703563e-07]\n",
      "20 [2.67097883e-06]\n",
      "21 [2.46387555e-08]\n",
      "22 [5.60486861e-07]\n",
      "23 [1.09678276e-06]\n",
      "24 [9.03432621e-06]\n",
      "25 [0.00011585]\n",
      "26 [0.00035333]\n",
      "27 [4.89576e-05]\n",
      "28 [1.01223444e-06]\n",
      "29 [1.55420028e-05]\n",
      "30 [9.55584494e-06]\n",
      "31 [8.35153269e-06]\n",
      "32 [8.28765899e-07]\n",
      "33 [3.13067621e-05]\n",
      "34 [2.8752664e-05]\n",
      "35 [1.4420469e-05]\n",
      "36 [4.36977408e-06]\n",
      "37 [3.36101749e-06]\n",
      "38 [5.4730297e-08]\n",
      "39 [2.18850973e-05]\n",
      "40 [6.18032132e-05]\n",
      "41 [0.00010225]\n",
      "42 [0.00010225]\n",
      "43 [5.09220889e-05]\n",
      "44 [7.60710035e-06]\n",
      "45 [7.22293084e-06]\n",
      "46 [2.86497956e-05]\n",
      "47 [1.61343844e-05]\n",
      "48 [4.69876816e-07]\n",
      "49 [2.52670684e-06]\n",
      "50 [2.26043557e-06]\n",
      "51 [2.6904891e-06]\n",
      "52 [1.16974415e-07]\n",
      "53 [1.31035427e-06]\n",
      "54 [1.39940865e-06]\n",
      "55 [8.8349339e-07]\n",
      "56 [2.86396235e-07]\n",
      "57 [1.36460965e-08]\n",
      "58 [2.16387686e-09]\n",
      "59 [3.08886017e-08]\n",
      "60 [4.99986563e-09]\n",
      "61 [4.34551972e-09]\n",
      "62 [4.63494023e-08]\n",
      "63 [6.7036491e-08]\n",
      "64 [1.04227991e-08]\n",
      "65 [1.46246767e-07]\n",
      "66 [2.56132664e-07]\n",
      "67 [2.15196601e-07]\n",
      "68 [1.31947646e-08]\n",
      "69 [3.84818057e-07]\n",
      "70 [4.51235628e-07]\n",
      "71 [1.6802133e-09]\n",
      "72 [4.14328642e-07]\n",
      "73 [1.40095605e-06]\n",
      "74 [1.59049251e-06]\n",
      "75 [9.42775631e-07]\n",
      "76 [4.04532926e-07]\n",
      "77 [8.31984497e-07]\n",
      "78 [4.99247296e-07]\n",
      "79 [4.77078393e-07]\n",
      "80 [4.69769673e-07]\n",
      "81 [4.12465178e-08]\n",
      "82 [2.22586435e-07]\n",
      "83 [1.90345997e-07]\n",
      "84 [7.77671483e-08]\n",
      "85 [5.51102444e-07]\n",
      "86 [9.95179461e-07]\n",
      "87 [5.7688005e-07]\n",
      "88 [1.33330667e-06]\n",
      "89 [5.48779438e-06]\n",
      "90 [6.57088333e-06]\n",
      "91 [2.75503812e-06]\n",
      "92 [1.55314669e-06]\n",
      "93 [1.15017019e-06]\n",
      "94 [6.54123098e-07]\n",
      "95 [3.50802668e-05]\n"
     ]
    }
   ],
   "source": [
    "# for i in temp.index:\n",
    "#     print(i,abs(compute_internal(f1(temp[i]),[(10,66)],numpy_flag=True)-temp[i]))"
   ]
  },
  {
   "cell_type": "code",
   "execution_count": null,
   "metadata": {},
   "outputs": [],
   "source": [
    "# xx = df1[\"(4, 14)\"]"
   ]
  },
  {
   "cell_type": "code",
   "execution_count": null,
   "metadata": {},
   "outputs": [],
   "source": [
    "# x2 = np.linspace(xx.min(),xx.max(),1000)\n",
    "# y2 = f1(x2)"
   ]
  },
  {
   "cell_type": "code",
   "execution_count": null,
   "metadata": {},
   "outputs": [],
   "source": [
    "#generate_xyz(y2,ele_id_lis=ele_id_lis)"
   ]
  }
 ],
 "metadata": {
  "kernelspec": {
   "display_name": "Python 3.10.5 ('my-rdkit-env')",
   "language": "python",
   "name": "python3"
  },
  "language_info": {
   "codemirror_mode": {
    "name": "ipython",
    "version": 3
   },
   "file_extension": ".py",
   "mimetype": "text/x-python",
   "name": "python",
   "nbconvert_exporter": "python",
   "pygments_lexer": "ipython3",
   "version": "3.10.5"
  },
  "orig_nbformat": 4,
  "vscode": {
   "interpreter": {
    "hash": "4174299120cfa976d208add07c6f1d1a77ce4bdedbe231d8b5fe91238143f3df"
   }
  }
 },
 "nbformat": 4,
 "nbformat_minor": 2
}
